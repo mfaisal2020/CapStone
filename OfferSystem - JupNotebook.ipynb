{
 "cells": [
  {
   "cell_type": "code",
   "execution_count": 1,
   "id": "4d211f47",
   "metadata": {},
   "outputs": [],
   "source": [
    "import sys\n",
    "\n",
    "import numpy as np\n",
    "import pandas as pd\n",
    "import xgboost as xgb\n",
    "import seaborn as sns\n",
    "import matplotlib.pyplot as plt\n",
    "import mysql.connector\n",
    "from mysql.connector import Error\n",
    "\n",
    "from sklearn.model_selection import train_test_split\n",
    "from sklearn.linear_model import LogisticRegression\n",
    "from sklearn.tree import DecisionTreeClassifier\n",
    "from sklearn.ensemble import RandomForestClassifier, BaggingClassifier, AdaBoostClassifier, VotingClassifier\n",
    "from sklearn.svm import SVC"
   ]
  },
  {
   "cell_type": "code",
   "execution_count": 2,
   "id": "5f6bdeec",
   "metadata": {},
   "outputs": [],
   "source": [
    "connection = mysql.connector.connect(host='localhost', database='offerusers', user='root', password='Capstone')"
   ]
  },
  {
   "cell_type": "code",
   "execution_count": 3,
   "id": "4a5cce71",
   "metadata": {},
   "outputs": [],
   "source": [
    "# ----- Function to update the product database based on the decision -----\n",
    "def db_update(DecisionCode, prdID):\n",
    "    mycursor = connection.cursor()\n",
    "    if DecisionCode == \"Approved\":\n",
    "        sql = \"UPDATE offerusers.all_requests SET m_decision=1 WHERE (m_decision=9)\"\n",
    "        sql_dec = \"UPDATE offerusers.request SET req_decision=%s WHERE (productID=%s);\"\n",
    "    else:\n",
    "        sql = \"UPDATE offerusers.all_requests SET m_decision=0 WHERE (m_decision=9)\"\n",
    "        sql_dec = \"UPDATE offerusers.request SET req_decision=%s WHERE (productID=%s);\"\n",
    "    # mycursor.execute(sql)\n",
    "    val = (DecisionCode, prdID)\n",
    "    mycursor.execute(sql_dec, val)\n",
    "    connection.commit()\n",
    "    print(mycursor.rowcount, \"record(s) updated\")"
   ]
  },
  {
   "cell_type": "code",
   "execution_count": 4,
   "id": "53f7a7bf",
   "metadata": {},
   "outputs": [],
   "source": [
    "# ----- Read the txt file and store results to a data frame -----\n",
    "df_os = pd.read_sql('SELECT * FROM offerusers.all_requests where m_decision!=9', con=connection)\n",
    "df_new = pd.read_sql('SELECT * FROM offerusers.all_requests where m_decision=9', con=connection)\n",
    "df_preserve = pd.read_sql('SELECT * FROM offerusers.all_requests where m_decision=9', con=connection)"
   ]
  },
  {
   "cell_type": "code",
   "execution_count": 5,
   "id": "6672a398",
   "metadata": {},
   "outputs": [],
   "source": [
    "if df_new.empty:\n",
    "    print(\"No product request for decisioning...\")\n",
    "    sys.exit()"
   ]
  },
  {
   "cell_type": "code",
   "execution_count": 6,
   "id": "7190b431",
   "metadata": {},
   "outputs": [
    {
     "name": "stdout",
     "output_type": "stream",
     "text": [
      "     prodid  b_market_price  c_requested_price  d_locationzip  \\\n",
      "0     Book1           100.0              200.0          84095   \n",
      "1     Bread            10.0                8.0          95095   \n",
      "2       Car         30000.0            28000.0          76543   \n",
      "3     Flask            20.0               15.0          87087   \n",
      "4  Garments            50.0               45.0          87087   \n",
      "\n",
      "  e_product_demand  f_nbrof_req  g_req_credibility h_offer_by_others  \\\n",
      "0             High          550                  7                 Y   \n",
      "1             High         1000                  9                 Y   \n",
      "2              Low            8                  9                 N   \n",
      "3              Low           10                  3                 N   \n",
      "4           Medium           20                  6                 N   \n",
      "\n",
      "   i_revenue_opportunity j_merchant_alignments k_basic_vs_non  \\\n",
      "0                      8                     N          Basic   \n",
      "1                      2                     Y          Basic   \n",
      "2                      8                     Y      Non-Basic   \n",
      "3                      3                     N      Non-Basic   \n",
      "4                      6                     N          Basic   \n",
      "\n",
      "  l_last12mnts_offer  m_decision  \n",
      "0                  N           1  \n",
      "1                  N           1  \n",
      "2                  N           0  \n",
      "3                  N           0  \n",
      "4                  Y           0  \n"
     ]
    }
   ],
   "source": [
    "print(df_os.head(5))"
   ]
  },
  {
   "cell_type": "code",
   "execution_count": 7,
   "id": "7a52a6aa",
   "metadata": {},
   "outputs": [
    {
     "name": "stdout",
     "output_type": "stream",
     "text": [
      "Shape is : \n",
      " (17, 13)\n",
      "Data Types are : \n",
      " prodid                    object\n",
      "b_market_price           float64\n",
      "c_requested_price        float64\n",
      "d_locationzip              int64\n",
      "e_product_demand          object\n",
      "f_nbrof_req                int64\n",
      "g_req_credibility          int64\n",
      "h_offer_by_others         object\n",
      "i_revenue_opportunity      int64\n",
      "j_merchant_alignments     object\n",
      "k_basic_vs_non            object\n",
      "l_last12mnts_offer        object\n",
      "m_decision                 int64\n",
      "dtype: object\n",
      "Null rows count is : \n",
      " prodid                   0\n",
      "b_market_price           0\n",
      "c_requested_price        0\n",
      "d_locationzip            0\n",
      "e_product_demand         0\n",
      "f_nbrof_req              0\n",
      "g_req_credibility        0\n",
      "h_offer_by_others        0\n",
      "i_revenue_opportunity    0\n",
      "j_merchant_alignments    0\n",
      "k_basic_vs_non           0\n",
      "l_last12mnts_offer       0\n",
      "m_decision               0\n",
      "dtype: int64\n"
     ]
    }
   ],
   "source": [
    "# ----- Perform basic validations on the dataset -----\n",
    "print(\"Shape is : \\n\", df_os.shape)\n",
    "print(\"Data Types are : \\n\", df_os.dtypes)\n",
    "print(\"Null rows count is : \\n\", df_os.isnull().sum())"
   ]
  },
  {
   "cell_type": "code",
   "execution_count": 9,
   "id": "248b0233",
   "metadata": {},
   "outputs": [
    {
     "data": {
      "image/png": "[encoded data removed]",
      "text/plain": [
       "<Figure size 432x288 with 2 Axes>"
      ]
     },
     "metadata": {
      "needs_background": "light"
     },
     "output_type": "display_data"
    }
   ],
   "source": [
    "# ----- Visualize the correlations between the categorical variables -----\n",
    "sns.heatmap(df_os.corr(), annot=True, fmt='.0%')\n",
    "plt.show()"
   ]
  },
  {
   "cell_type": "code",
   "execution_count": 10,
   "id": "b4e43d67",
   "metadata": {},
   "outputs": [],
   "source": [
    "# ----- Feature selection for baseline records -----\n",
    "categorical_var = list(df_os.dtypes.loc[df_os.dtypes == 'object'].index)\n",
    "for var in categorical_var:\n",
    "    df_os[var] = df_os[var].astype('category')\n",
    "df_os[categorical_var] = df_os[categorical_var].apply(lambda x: x.cat.codes)"
   ]
  },
  {
   "cell_type": "code",
   "execution_count": 11,
   "id": "9cef4f92",
   "metadata": {},
   "outputs": [],
   "source": [
    "# ----- Feature selection for new record -----\n",
    "categorical_var = list(df_new.dtypes.loc[df_new.dtypes == 'object'].index)\n",
    "for var in categorical_var:\n",
    "    df_new[var] = df_new[var].astype('category')\n",
    "df_new[categorical_var] = df_new[categorical_var].apply(lambda x: x.cat.codes)"
   ]
  },
  {
   "cell_type": "code",
   "execution_count": 12,
   "id": "951f9319",
   "metadata": {},
   "outputs": [],
   "source": [
    "# ----- Extract the dependent and independent variables -----\n",
    "X = df_os.iloc[:, :-1].values\n",
    "X_new = df_new.iloc[:, :-1].values\n",
    "y = df_os.iloc[:, 12].values"
   ]
  },
  {
   "cell_type": "code",
   "execution_count": 13,
   "id": "4a9056b8",
   "metadata": {},
   "outputs": [],
   "source": [
    "# ----- Splitting dataset into training and test data -----\n",
    "X_train, X_test, y_train, y_test = train_test_split(X, y, test_size=0.25)"
   ]
  },
  {
   "cell_type": "code",
   "execution_count": 14,
   "id": "1af7b81d",
   "metadata": {},
   "outputs": [],
   "source": [
    "# ----- Bagging classifier -----\n",
    "model_bg = BaggingClassifier()\n",
    "model_bg.fit(X_train, y_train)\n",
    "bagging_score = model_bg.score(X_test, y_test)"
   ]
  },
  {
   "cell_type": "code",
   "execution_count": 15,
   "id": "e184e0e9",
   "metadata": {},
   "outputs": [
    {
     "name": "stdout",
     "output_type": "stream",
     "text": [
      "Bagging Classifier Score is:  0.8\n"
     ]
    }
   ],
   "source": [
    "print(\"Bagging Classifier Score is: \", bagging_score)"
   ]
  },
  {
   "cell_type": "code",
   "execution_count": 16,
   "id": "cf349882",
   "metadata": {},
   "outputs": [],
   "source": [
    "# ----- Boosting classifier -----\n",
    "model_xgb = xgb.XGBClassifier(learning_rate=0.1, max_depth=5, n_estimators=5000,\n",
    "                              subsample=0.5, colsample_bytree=0.5, eval_metric='auc', verbosity=1)\n",
    "model_xgb.fit(X_train, y_train)\n",
    "boosting_score = model_xgb.score(X_test, y_test)"
   ]
  },
  {
   "cell_type": "code",
   "execution_count": 17,
   "id": "e503c77b",
   "metadata": {},
   "outputs": [
    {
     "name": "stdout",
     "output_type": "stream",
     "text": [
      "Boosting Classifier Score is:  0.8\n"
     ]
    }
   ],
   "source": [
    "print(\"Boosting Classifier Score is: \", boosting_score)"
   ]
  },
  {
   "cell_type": "code",
   "execution_count": 18,
   "id": "a1336f8b",
   "metadata": {},
   "outputs": [],
   "source": [
    "# ----- Stack / Voting classifier -----\n",
    "lr = LogisticRegression()\n",
    "dt = DecisionTreeClassifier()\n",
    "svm = SVC(kernel='poly', degree=2)\n",
    "rf = RandomForestClassifier()\n",
    "model_evc = VotingClassifier(estimators=[('lr', lr), ('dt', dt), ('svm', svm), ('rf', rf)], voting='hard')\n",
    "model_evc.fit(X_train, y_train)\n",
    "voting_score = model_evc.score(X_test, y_test)"
   ]
  },
  {
   "cell_type": "code",
   "execution_count": 19,
   "id": "02deeb7c",
   "metadata": {},
   "outputs": [
    {
     "name": "stdout",
     "output_type": "stream",
     "text": [
      "Voting Classifier Score is:  0.8\n"
     ]
    }
   ],
   "source": [
    "print(\"Voting Classifier Score is: \", voting_score)"
   ]
  },
  {
   "cell_type": "code",
   "execution_count": 20,
   "id": "478622c5",
   "metadata": {},
   "outputs": [],
   "source": [
    "# ----- Iterate over the number of rows to predict -----\n",
    "mycursor = connection.cursor()\n",
    "sql = \"SELECT count(*) FROM offerusers.all_requests WHERE (m_decision=9)\"\n",
    "mycursor.execute(sql)\n",
    "count_rec = mycursor.fetchone()[0]"
   ]
  },
  {
   "cell_type": "code",
   "execution_count": 21,
   "id": "0700edb8",
   "metadata": {},
   "outputs": [],
   "source": [
    "a = model_bg.predict(X_new)\n",
    "b = model_xgb.predict(X_new)\n",
    "c = model_evc.predict(X_new)"
   ]
  },
  {
   "cell_type": "code",
   "execution_count": 22,
   "id": "71f4a1ae",
   "metadata": {},
   "outputs": [
    {
     "name": "stdout",
     "output_type": "stream",
     "text": [
      "*** Iteration for product:  Book\n",
      "New Bagging prediction:  0\n",
      "New Boosting prediction:  1\n",
      "New Stacking prediction:  1\n",
      "Offer Request NOT Approved\n",
      "0 record(s) updated\n"
     ]
    }
   ],
   "source": [
    "for i in range(count_rec):\n",
    "    print(\"*** Iteration for product: \", df_preserve.iloc[i].values[0])\n",
    "    print(\"New Bagging prediction: \", a[i])\n",
    "    print(\"New Boosting prediction: \", b[i])\n",
    "    print(\"New Stacking prediction: \", c[i])\n",
    "    if bagging_score == 1 & a[i] == 1:\n",
    "        print(\"Offer Request Approved by Bagging model\")\n",
    "        db_update(\"Approved\", df_preserve.iloc[i].values[0])\n",
    "    elif boosting_score == 1 & b[i] == 1:\n",
    "        print(\"Offer Request Approved by Boosting model\")\n",
    "        db_update(\"Approved\", df_preserve.iloc[i].values[0])\n",
    "    elif voting_score == 1 & c[i] == 1:\n",
    "        print(\"Offer Request Approved by Stacking model\")\n",
    "        db_update(\"Approved\", df_preserve.iloc[i].values[0])\n",
    "    else:\n",
    "        print(\"Offer Request NOT Approved\")\n",
    "        db_update(\"Denied\", df_preserve.iloc[i].values[0])"
   ]
  },
  {
   "cell_type": "code",
   "execution_count": null,
   "id": "50763b62",
   "metadata": {},
   "outputs": [],
   "source": []
  }
 ],
 "metadata": {
  "kernelspec": {
   "display_name": "Python 3 (ipykernel)",
   "language": "python",
   "name": "python3"
  },
  "language_info": {
   "codemirror_mode": {
    "name": "ipython",
    "version": 3
   },
   "file_extension": ".py",
   "mimetype": "text/x-python",
   "name": "python",
   "nbconvert_exporter": "python",
   "pygments_lexer": "ipython3",
   "version": "3.9.6"
  }
 },
 "nbformat": 4,
 "nbformat_minor": 5
}
